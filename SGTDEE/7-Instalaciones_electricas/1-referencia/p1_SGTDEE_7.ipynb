{
 "cells": [
  {
   "cell_type": "code",
   "execution_count": 1,
   "id": "969efad0-f339-4dd4-aa6e-9349b4409139",
   "metadata": {},
   "outputs": [],
   "source": [
    "import numpy as np\n",
    "import pandas as pd"
   ]
  },
  {
   "cell_type": "markdown",
   "id": "b401e6bd-afa5-4c03-9472-4a091594a5f5",
   "metadata": {},
   "source": [
    "un edificio de habitajes dispone de una centralizacion de comptadores a la planta baja con las caracteristicas siguientes:\n",
    "\n",
    "- Potencia en la centralizacion de los contadores: 30 kW\n",
    "- Voltaje de suministro: 400 V\n",
    "- Longitud de la linea general de alimentacion: 15 m\n",
    "- Conductores de cobre (conductividad: 44 m/Ω mm2)\n",
    "- Factor de potencia: 0,90 (i)\n",
    "- Conductores RZ1-K instalados en un tubo encastado a la paret de obra\n",
    "\n",
    "Calculen la minima seccion normalizada de la linea general de alimentacion."
   ]
  },
  {
   "cell_type": "code",
   "execution_count": 9,
   "id": "9ca5547c-e943-4d64-b8dc-caec5fdeda9b",
   "metadata": {},
   "outputs": [],
   "source": [
    "# Datos\n",
    "# Potencia en la centralizacion de los contadores en W:\n",
    "P = 30 * 10 ** 3\n",
    "# Voltaje de suministro en V\n",
    "V = 400\n",
    "# Longitud de la linea general de alimentacion en m\n",
    "Long = 15\n",
    "# Conductores de cobre en m/(Ω/mm^2)\n",
    "con_cu = 44\n",
    "# Factor de potencia inductivo en por unidad\n",
    "fdp = 0.9\n",
    "# Caida de tension en %\n",
    "delta_v = 0.5"
   ]
  },
  {
   "cell_type": "markdown",
   "id": "08610ef5-4709-4494-8ae6-e659a499af10",
   "metadata": {},
   "source": [
    "Càlculo de la mínima sección (en $mm^2$) aplicando el criterio de la maxima caida de voltage\n",
    "admisible:"
   ]
  },
  {
   "cell_type": "code",
   "execution_count": 17,
   "id": "0c7f451c-fd43-41f8-9e71-095f12344153",
   "metadata": {},
   "outputs": [
    {
     "data": {
      "text/plain": [
       "12.784090909090908"
      ]
     },
     "execution_count": 17,
     "metadata": {},
     "output_type": "execute_result"
    }
   ],
   "source": [
    "A_delta_V = Long * P / (con_cu * delta_v * V ** 2) * 100\n",
    "A_delta_V"
   ]
  },
  {
   "cell_type": "code",
   "execution_count": 6,
   "id": "5948fd3a-332c-4b07-9c76-4432596eb0d9",
   "metadata": {},
   "outputs": [
    {
     "data": {
      "text/html": [
       "<div>\n",
       "<style scoped>\n",
       "    .dataframe tbody tr th:only-of-type {\n",
       "        vertical-align: middle;\n",
       "    }\n",
       "\n",
       "    .dataframe tbody tr th {\n",
       "        vertical-align: top;\n",
       "    }\n",
       "\n",
       "    .dataframe thead th {\n",
       "        text-align: right;\n",
       "    }\n",
       "</style>\n",
       "<table border=\"1\" class=\"dataframe\">\n",
       "  <thead>\n",
       "    <tr style=\"text-align: right;\">\n",
       "      <th></th>\n",
       "      <th>Seccion nominal [mm^2]</th>\n",
       "      <th>Densidad de corriente Cu [A/mm^2]</th>\n",
       "      <th>Densidad de corriente Al [A/mm^2]</th>\n",
       "    </tr>\n",
       "  </thead>\n",
       "  <tbody>\n",
       "    <tr>\n",
       "      <th>0</th>\n",
       "      <td>10</td>\n",
       "      <td>8.75</td>\n",
       "      <td>-</td>\n",
       "    </tr>\n",
       "    <tr>\n",
       "      <th>1</th>\n",
       "      <td>16</td>\n",
       "      <td>7.6</td>\n",
       "      <td>6</td>\n",
       "    </tr>\n",
       "    <tr>\n",
       "      <th>2</th>\n",
       "      <td>25</td>\n",
       "      <td>6.35</td>\n",
       "      <td>5</td>\n",
       "    </tr>\n",
       "    <tr>\n",
       "      <th>3</th>\n",
       "      <td>35</td>\n",
       "      <td>5.75</td>\n",
       "      <td>4.55</td>\n",
       "    </tr>\n",
       "    <tr>\n",
       "      <th>4</th>\n",
       "      <td>50</td>\n",
       "      <td>5.1</td>\n",
       "      <td>4</td>\n",
       "    </tr>\n",
       "    <tr>\n",
       "      <th>5</th>\n",
       "      <td>70</td>\n",
       "      <td>4.5</td>\n",
       "      <td>3.55</td>\n",
       "    </tr>\n",
       "    <tr>\n",
       "      <th>6</th>\n",
       "      <td>95</td>\n",
       "      <td>4.05</td>\n",
       "      <td>3.2</td>\n",
       "    </tr>\n",
       "    <tr>\n",
       "      <th>7</th>\n",
       "      <td>120</td>\n",
       "      <td>-</td>\n",
       "      <td>2.9</td>\n",
       "    </tr>\n",
       "    <tr>\n",
       "      <th>8</th>\n",
       "      <td>150</td>\n",
       "      <td>-</td>\n",
       "      <td>2.7</td>\n",
       "    </tr>\n",
       "  </tbody>\n",
       "</table>\n",
       "</div>"
      ],
      "text/plain": [
       "   Seccion nominal [mm^2] Densidad de corriente Cu [A/mm^2]  \\\n",
       "0                      10                              8.75   \n",
       "1                      16                               7.6   \n",
       "2                      25                              6.35   \n",
       "3                      35                              5.75   \n",
       "4                      50                               5.1   \n",
       "5                      70                               4.5   \n",
       "6                      95                              4.05   \n",
       "7                     120                                 -   \n",
       "8                     150                                 -   \n",
       "\n",
       "  Densidad de corriente Al [A/mm^2]  \n",
       "0                                 -  \n",
       "1                                 6  \n",
       "2                                 5  \n",
       "3                              4.55  \n",
       "4                                 4  \n",
       "5                              3.55  \n",
       "6                               3.2  \n",
       "7                               2.9  \n",
       "8                               2.7  "
      ]
     },
     "execution_count": 6,
     "metadata": {},
     "output_type": "execute_result"
    }
   ],
   "source": [
    "df = pd.read_excel(io = '/home/ptrenchs/Escritorio/Material_docente_clase/SGTDEE/7-Instalaciones_electricas/1-referencia/Excels/ITC-BT-06.xlsx')\n",
    "df"
   ]
  },
  {
   "cell_type": "code",
   "execution_count": null,
   "id": "1c9dfaa5-1e7a-45ef-b459-46c92dcdf7d5",
   "metadata": {},
   "outputs": [],
   "source": []
  }
 ],
 "metadata": {
  "kernelspec": {
   "display_name": "Python 3 (ipykernel)",
   "language": "python",
   "name": "python3"
  },
  "language_info": {
   "codemirror_mode": {
    "name": "ipython",
    "version": 3
   },
   "file_extension": ".py",
   "mimetype": "text/x-python",
   "name": "python",
   "nbconvert_exporter": "python",
   "pygments_lexer": "ipython3",
   "version": "3.12.4"
  }
 },
 "nbformat": 4,
 "nbformat_minor": 5
}
